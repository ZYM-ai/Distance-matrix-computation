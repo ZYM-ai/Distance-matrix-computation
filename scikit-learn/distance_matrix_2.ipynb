{
 "cells": [
  {
   "cell_type": "markdown",
   "metadata": {},
   "source": [
    "Goal: Learn the fact that for-loop slows down matrix computation."
   ]
  },
  {
   "cell_type": "code",
   "execution_count": 1,
   "metadata": {},
   "outputs": [],
   "source": [
    "import numpy as np\n",
    "import numpy.linalg as LA\n",
    "\n",
    "AT = np.array([[1, 2], [3.0, 0.5], [3.5, 1.2], [4.0, 4.5]])\n",
    "BT = np.array([[0.8, 1.3], [3.1, 3.8]])\n",
    "D1=[]\n",
    "for i in range(len(AT)):\n",
    "    for j in range(len(BT)):\n",
    "        D1.append(LA.norm(AT[i]-BT[j],ord=2)**2)    \n",
    "D1=(np.array(D1)).reshape(4,2)"
   ]
  },
  {
   "cell_type": "code",
   "execution_count": 2,
   "metadata": {},
   "outputs": [],
   "source": [
    "m=4\n",
    "n=2\n",
    "P_a = (LA.norm(AT,ord=2, axis=1)**2).reshape(m,1)\n",
    "P_b = ((LA.norm(BT, ord=2, axis=1)**2).T).reshape(n,1)\n",
    "D2=np.dot(P_a, np.ones([1,n]))+np.dot(np.ones([m,1]), P_b.T)-2*np.dot(AT, BT.T)\n",
    "assert np.allclose( D1, D2 )"
   ]
  },
  {
   "cell_type": "code",
   "execution_count": 13,
   "metadata": {},
   "outputs": [
    {
     "name": "stderr",
     "output_type": "stream",
     "text": [
      "C:\\Users\\zhaoyiming\\anaconda3\\lib\\site-packages\\ipykernel_launcher.py:34: RuntimeWarning: divide by zero encountered in log10\n"
     ]
    },
    {
     "data": {
      "image/png": "[encoded data removed]",
      "text/plain": [
       "<Figure size 432x288 with 1 Axes>"
      ]
     },
     "metadata": {
      "needs_background": "light"
     },
     "output_type": "display_data"
    }
   ],
   "source": [
    "import time\n",
    "import matplotlib.pyplot as plt\n",
    "\n",
    "\n",
    "d=100\n",
    "n=np.arange(10,1000,100)\n",
    "D1_time=[]\n",
    "\n",
    "for num in n:\n",
    "    D1=[]\n",
    "    A=np.random.rand(num, d)\n",
    "    B=np.random.rand(num, d)\n",
    "    #print(A.shape)\n",
    "    t0=time.time()\n",
    "    for i in range(num):\n",
    "        for j in range(num):\n",
    "            D1.append(LA.norm(A[i]-B[j],ord=2)**2)    \n",
    "    D1=(np.array(D1)).reshape(num,num)\n",
    "    t1=time.time()\n",
    "    D1_time.append(t1-t0)\n",
    "time_1=[np.log10(t) for t in D1_time]\n",
    "\n",
    "D2_time=[]\n",
    "for num in n:\n",
    "    D2=[]\n",
    "    A=np.random.rand(num, d)\n",
    "    B=np.random.rand(num, d)\n",
    "    t0=time.time()\n",
    "    P_a = (LA.norm(A,ord=2, axis=1)**2).reshape(num,1)\n",
    "    P_b = (LA.norm(B, ord=2, axis=1)**2).reshape(num,1)\n",
    "    D2=np.dot(P_a, np.ones([1,num]))+np.dot(np.ones([num,1]), P_b.T)-2*np.dot(A, B.T)\n",
    "    t1=time.time()\n",
    "    D2_time.append(t1-t0)  \n",
    "time_2=[np.log10(t) for t in D2_time]\n",
    "numbers=[np.log10(num) for num in n]\n",
    "\n",
    "plt.xlabel('Log10(n)')\n",
    "plt.ylabel('Log10 of time(sec)')\n",
    "plt.plot(numbers, time_1,  'b-')\n",
    "plt.plot(numbers, time_2, 'r-')\n",
    "plt.savefig('D_03.png')"
   ]
  },
  {
   "cell_type": "code",
   "execution_count": 11,
   "metadata": {},
   "outputs": [
    {
     "data": {
      "image/png": "[encoded data removed]",
      "text/plain": [
       "<Figure size 432x288 with 1 Axes>"
      ]
     },
     "metadata": {
      "needs_background": "light"
     },
     "output_type": "display_data"
    }
   ],
   "source": [
    "D2_time=[]\n",
    "for num in n:\n",
    "    D2=[]\n",
    "    A=np.random.rand(num, d)\n",
    "    B=np.random.rand(num, d)\n",
    "    t0=time.time()\n",
    "    P_a = (LA.norm(A,ord=2, axis=1)**2).reshape(num,1)\n",
    "    P_b = (LA.norm(B, ord=2, axis=1)**2).reshape(num,1)\n",
    "    D2=np.dot(P_a, np.ones([1,num]))+np.dot(np.ones([num,1]), P_b.T)-2*np.dot(A, B.T)\n",
    "    t1=time.time()\n",
    "    D2_time.append(t1-t0)  \n",
    "time_1=[np.log10(t) for t in D1_time]\n",
    "time_2=[np.log10(t) for t in D2_time]\n",
    "numbers=[np.log10(num) for num in n]\n",
    "#plt.ylim(-4, 1)\n",
    "plt.xlabel('Log10(n)')\n",
    "plt.ylabel('Log10 of time(sec)')\n",
    "#plt.plot(numbers, time_1,  'b-')\n",
    "plt.plot(numbers, time_2, 'r-')\n",
    "plt.savefig('D_02.png')"
   ]
  },
  {
   "cell_type": "code",
   "execution_count": 82,
   "metadata": {},
   "outputs": [
    {
     "data": {
      "text/plain": [
       "(290, 100)"
      ]
     },
     "execution_count": 82,
     "metadata": {},
     "output_type": "execute_result"
    }
   ],
   "source": [
    "A.shape"
   ]
  },
  {
   "cell_type": "code",
   "execution_count": null,
   "metadata": {},
   "outputs": [],
   "source": []
  }
 ],
 "metadata": {
  "kernelspec": {
   "display_name": "Python 3",
   "language": "python",
   "name": "python3"
  },
  "language_info": {
   "codemirror_mode": {
    "name": "ipython",
    "version": 3
   },
   "file_extension": ".py",
   "mimetype": "text/x-python",
   "name": "python",
   "nbconvert_exporter": "python",
   "pygments_lexer": "ipython3",
   "version": "3.7.7"
  }
 },
 "nbformat": 4,
 "nbformat_minor": 4
}
