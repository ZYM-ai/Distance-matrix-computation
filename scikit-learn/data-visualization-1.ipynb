{
 "cells": [
  {
   "cell_type": "markdown",
   "metadata": {},
   "source": [
    "Goal: Learn how to visualize two-dimensional data in python"
   ]
  },
  {
   "cell_type": "code",
   "execution_count": 50,
   "metadata": {},
   "outputs": [
    {
     "data": {
      "image/png": "[encoded data removed]",
      "text/plain": [
       "<Figure size 216x216 with 1 Axes>"
      ]
     },
     "metadata": {
      "needs_background": "light"
     },
     "output_type": "display_data"
    }
   ],
   "source": [
    "import numpy as np\n",
    "import matplotlib.pyplot as plt\n",
    "\n",
    "# suppose that we are given the following labled datase:\n",
    "XT_tra = np.array([[1, 2],[3, .5],[3.5, 1.2], [4, 4.5]])\n",
    "y_tra = np.array([1, 1, -1, -1])\n",
    "data = np.concatenate((XT_tra,y_tra.reshape(4,1)), axis=1)\n",
    "XT_tst = np.array([[0.8, 1.3], [3.1, 3.8]])\n",
    "XT_p = data[:,0:2][np.where(data[:,2]==1)]\n",
    "XT_n = data[:,0:2][np.where(data[:,2]==-1)]\n",
    "\n",
    "fig = plt.figure(figsize=(3,3));\n",
    "plt.ylim(0,5)\n",
    "plt.xlim(0,5)\n",
    "plt.scatter(XT_p[:,0], XT_p[:,1],color='r', s=50 )\n",
    "plt.scatter(XT_n[:,0], XT_n[:,1],color='b', s=50)\n",
    "plt.scatter(XT_tst[:,0], XT_tst[:,1],color='#909090', s=50 )\n",
    "plt.savefig('k.demo012_01.png')"
   ]
  },
  {
   "cell_type": "code",
   "execution_count": 44,
   "metadata": {},
   "outputs": [
    {
     "name": "stdout",
     "output_type": "stream",
     "text": [
      "XT_p=\n",
      "[[1.  2. ]\n",
      " [3.  0.5]]\n",
      "\n",
      "XT_n=\n",
      "[[3.5 1.2]\n",
      " [4.  4.5]]\n"
     ]
    }
   ],
   "source": [
    "print('XT_p=') \n",
    "print(XT_p) \n",
    "print();\n",
    "\n",
    "print('XT_n=') \n",
    "print(XT_n)"
   ]
  },
  {
   "cell_type": "code",
   "execution_count": 47,
   "metadata": {},
   "outputs": [
    {
     "data": {
      "image/png": "[encoded data removed]",
      "text/plain": [
       "<Figure size 216x216 with 1 Axes>"
      ]
     },
     "metadata": {
      "needs_background": "light"
     },
     "output_type": "display_data"
    }
   ],
   "source": [
    "fig = plt.figure(figsize=(3,3));\n",
    "\n",
    "ax1 = plt.subplot(1,1,1);\n",
    "\n",
    "ax1.plot( (XT_p.T)[0], (XT_p.T)[1], 'ro' );     \n",
    "\n",
    "ax1.plot( (XT_n.T)[0], (XT_n.T)[1], 'bo' );\n",
    "\n",
    "ax1.plot( (XT_tst.T)[0], (XT_tst.T)[1], 'o', color='#909090' );\n",
    "\n",
    "ax1.set_xlim([0,5]);\n",
    "\n",
    "ax1.set_ylim([0,5]); "
   ]
  },
  {
   "cell_type": "code",
   "execution_count": 48,
   "metadata": {},
   "outputs": [
    {
     "data": {
      "text/plain": [
       "array([1., 3.])"
      ]
     },
     "execution_count": 48,
     "metadata": {},
     "output_type": "execute_result"
    }
   ],
   "source": [
    "(XT_p.T)[0]"
   ]
  },
  {
   "cell_type": "code",
   "execution_count": null,
   "metadata": {},
   "outputs": [],
   "source": []
  }
 ],
 "metadata": {
  "kernelspec": {
   "display_name": "Python 3",
   "language": "python",
   "name": "python3"
  },
  "language_info": {
   "codemirror_mode": {
    "name": "ipython",
    "version": 3
   },
   "file_extension": ".py",
   "mimetype": "text/x-python",
   "name": "python",
   "nbconvert_exporter": "python",
   "pygments_lexer": "ipython3",
   "version": "3.7.7"
  }
 },
 "nbformat": 4,
 "nbformat_minor": 4
}
